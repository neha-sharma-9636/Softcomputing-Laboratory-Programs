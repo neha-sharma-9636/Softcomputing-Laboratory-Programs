{
 "cells": [
  {
   "cell_type": "code",
   "execution_count": 2,
   "metadata": {},
   "outputs": [
    {
     "name": "stdout",
     "output_type": "stream",
     "text": [
      "[1, 'ananya', 2]\n",
      "[1, 'ananya', 2, 'MODY UNIVERSITY']\n",
      "[1, 'ananya', 2]\n"
     ]
    }
   ],
   "source": [
    "list = [1, \"ananya\", 1+1]\n",
    "print(list)\n",
    "list[1]\n",
    "list.append(\"MODY UNIVERSITY\")\n",
    "print(list)\n",
    "list.pop()\n",
    "print(list)\n"
   ]
  },
  {
   "cell_type": "code",
   "execution_count": 3,
   "metadata": {},
   "outputs": [
    {
     "name": "stdout",
     "output_type": "stream",
     "text": [
      "{1: 'a', 2: 'b'}\n",
      "dict_keys([1, 2])\n",
      "dict_values(['a', 'b'])\n",
      "0 1 a\n",
      "1 2 b\n",
      "1 a\n",
      "2 b\n",
      "True\n",
      "{2: 'b'}\n",
      "False\n"
     ]
    }
   ],
   "source": [
    "dictionary = { 1:'a', 2:'b'}\n",
    "print(dictionary)\n",
    "print(dictionary.keys())\n",
    "print(dictionary.values())\n",
    "for index, value in enumerate(dictionary): \n",
    "    print (index, value , dictionary[value])\n",
    "for i in dictionary:\n",
    "    print (\"%d %s\" %(i, dictionary[i]))\n",
    "print(1 in dictionary)\n",
    "del dictionary[1]\n",
    "print(dictionary)\n",
    "print(1 in dictionary)\n"
   ]
  },
  {
   "cell_type": "code",
   "execution_count": 4,
   "metadata": {},
   "outputs": [
    {
     "name": "stdout",
     "output_type": "stream",
     "text": [
      "(1, 'ananya', 3)\n",
      "ananya\n",
      "{1, 2, 3, 4, 5, 6, 7, 8, 9}\n",
      "set = {1, 2, 3, 4, 5, 6, 7, 8, 9}\n"
     ]
    }
   ],
   "source": [
    "tuple = (1,\"ananya\", 1+2)\n",
    "print(tuple)\n",
    "print(tuple[1])\n",
    "tuple[2]\n",
    "\n",
    "set = set()\n",
    "for i in range(1,10):\n",
    "    set.add(i)\n",
    "print(set)\n",
    "print(\"set =\",set)\n",
    "\n"
   ]
  }
 ],
 "metadata": {
  "kernelspec": {
   "display_name": "Python 3",
   "language": "python",
   "name": "python3"
  },
  "language_info": {
   "codemirror_mode": {
    "name": "ipython",
    "version": 3
   },
   "file_extension": ".py",
   "mimetype": "text/x-python",
   "name": "python",
   "nbconvert_exporter": "python",
   "pygments_lexer": "ipython3",
   "version": "3.7.3"
  }
 },
 "nbformat": 4,
 "nbformat_minor": 2
}
